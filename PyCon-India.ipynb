{
 "metadata": {
  "name": ""
 },
 "nbformat": 3,
 "nbformat_minor": 0,
 "worksheets": [
  {
   "cells": [
    {
     "cell_type": "markdown",
     "metadata": {
      "slideshow": {
       "slide_type": "slide"
      }
     },
     "source": [
      "![](files/images/IPy_header.png)\n",
      "\n",
      "\n",
      "IPython Notebook: Writing python programs with an interactive environment\n",
      "===================\n",
      "\n",
      "**Konark Modi**\n",
      "---------------\n",
      "\n",
      "*@konarkmodi*\n",
      "\n",
      "*MakeMyTrip.com*"
     ]
    },
    {
     "cell_type": "markdown",
     "metadata": {
      "slideshow": {
       "slide_type": "slide"
      }
     },
     "source": [
      "Expectations from the Talk\n",
      "==========================\n",
      "\n",
      "- Need for an interactive environment\n",
      "- The IPython project\n",
      "- IPython-Notebook : It's complete architecture, let's just have a sneek-peek what runs under the hood\n",
      "    - Architecture\n",
      "    - Kernel processes\n",
      "    - Frontends of IPython\n",
      "    - What makes IPython differentiate from other environments.\n",
      "- Getting started with IPython\n",
      "- Features of IPython-Notebook\n",
      "    - Shell with Python Brain\n",
      "    - Magic functions\n",
      "    - Rich output display\n",
      "- Lot of demos \n",
      "\n",
      "**Note:** *We already have had some amazing talks on writing better code in python, various data visualization libraries, NumPy/SciPy so I'll try and keep this talk focus on getting the maximum out of an interactive environment.*"
     ]
    },
    {
     "cell_type": "markdown",
     "metadata": {
      "slideshow": {
       "slide_type": "slide"
      }
     },
     "source": [
      "Need for an interactive environment\n",
      "===================================\n",
      " - Object Introspection, searching through modules, namespaces\n",
      " - Minimize switching between editor and command line.\n",
      " - Make it reproducible\n",
      " - Should be collaborative\n",
      " - I can do lot of exploratory analysis, there are no specified tasks.\n",
      " - Can save important findings / Take notes.\n",
      " - It's a pain when the environment is detached from presentation tools like powerpoint, word etc.\n",
      " - And the list can go on and on and on........\n",
      "\n",
      "\n"
     ]
    },
    {
     "cell_type": "markdown",
     "metadata": {
      "slideshow": {
       "slide_type": "slide"
      }
     },
     "source": [
      "IPython Project\n",
      "================\n",
      "\n",
      "- open source (BSD) interactive computing environment in Python\n",
      "- Started in 2001 by Fernando Perez (BDFL)\n",
      "- ~150 contributors\n",
      "- IPython is the de facto standard environment for interactive work in Python\n",
      "\n",
      "Funded by:\n",
      "-----------\n",
      "- Mostly by volunteers\n",
      "- NASA, DOD/DRC, NIH\n",
      "- Microsoft, Enthought\n",
      "- Alfred P. Sloan Foundation ($1.15 million dollar grant starting in Jan. 2013)"
     ]
    },
    {
     "cell_type": "markdown",
     "metadata": {
      "slideshow": {
       "slide_type": "slide"
      }
     },
     "source": [
      "Architecture and Components\n",
      "===========================\n",
      "\n",
      "- IPython Kernel  \n",
      "![](files/images/ipython-interactive-architecture.png)\n",
      "    - Traditional :IPython (ipython)console consists of a single process that combines a terminal based UI with the process that runs the users code\n",
      "    - Addition + Extension : Now it has two seperate processes:\n",
      "        - **Kernel:** This is the process that runs the users code.\n",
      "        - **Frontend:** This is the process that provides the user interface where the user types code and sees results    \n",
      "    - Stateful computation engine\n",
      "    - Runs code and returns results\n",
      "    - Uses language agnostic JSON based message protocol over ZeroMQ/WebSockets\n",
      "\n",
      "\n",
      "Parallel computing framework\n",
      "----------------------------\n",
      "- Ipython Cluster"
     ]
    },
    {
     "cell_type": "markdown",
     "metadata": {
      "slideshow": {
       "slide_type": "slide"
      }
     },
     "source": [
      "Frontends:\n",
      "----------\n",
      "\n",
      "- **Terminal Console**\n",
      "\n",
      "![](files/images/ipython-console.png)"
     ]
    },
    {
     "cell_type": "markdown",
     "metadata": {
      "slideshow": {
       "slide_type": "subslide"
      }
     },
     "source": [
      "- **Qt Console**\n",
      "\n",
      "![](files/images/ipython-qtconsole.png)\n"
     ]
    },
    {
     "cell_type": "markdown",
     "metadata": {
      "slideshow": {
       "slide_type": "subslide"
      }
     },
     "source": [
      "- **Notebook**\n",
      "\n",
      "![](files/images/ipython-notebook.png)"
     ]
    },
    {
     "cell_type": "markdown",
     "metadata": {
      "slideshow": {
       "slide_type": "slide"
      }
     },
     "source": [
      "Features of IPython-Notebook\n",
      "============================\n",
      "\n",
      " - In-browser editing for code, with automatic syntax highlighting, indentation, and tab completion/introspection.\n",
      " - The ability to execute code from the browser, with the results of computations attached to the code which generated them\n",
      " - Shell with Python Brain\n",
      " - Magic functions\n",
      " - Rich output display\n",
      " - Non-blocking output of the kernel\n",
      " - Rich display system\n",
      "    - Markdown cells\n",
      "        - Simple text with basic text formatting.\n",
      "        - Code snippets\n",
      "    - HTML\n",
      "    - JSON\n",
      "    - Images\n",
      "        - Locally stored\n",
      "        - External URL\n",
      "        - Embedded Images\n",
      "        - Soft Linked Images\n",
      "    - Videos    \n",
      "    - LaTeX\n",
      "    - External Sites"
     ]
    },
    {
     "cell_type": "markdown",
     "metadata": {
      "slideshow": {
       "slide_type": "slide"
      }
     },
     "source": [
      "Demos\n",
      "=====\n",
      "\n",
      "- %quickref\n",
      "- [tab], ?, ??\n",
      "- Using shell commands\n",
      "- Understanding function signatures  \n",
      "- Magic of magic functions\n",
      "    - Line magic & Cell Magic\n",
      "    - Input, Output and history\n",
      "        - %save\n",
      "        - %rerun\n",
      "        - %pastebin\n",
      "    - %save\n",
      "    - %pdb\n",
      "    - Harnessing languages other then Python\n",
      "        - shell\n",
      "        - ruby\n",
      "        - perl\n",
      "     - Exception Modes:\n",
      "     - %%xmode\n",
      "        - Context\n",
      "        - verbose\n",
      "        - Plain\n",
      "- Code snippets from other sources\n",
      "    - Local file\n",
      "    - External url\n",
      "    - Raw code snippet\n",
      "- Running SQL queries from the UI\n",
      "    - ipython-sql extension\n",
      "- Rich Display System\n",
      "    - Demo"
     ]
    },
    {
     "cell_type": "markdown",
     "metadata": {
      "slideshow": {
       "slide_type": "slide"
      }
     },
     "source": [
      "Third party tools & Extensions\n",
      "==============================\n",
      "\n",
      "- Software Carpentry: helping scientist build better software using IPython Notebooks\n",
      "- Microsoft:\n",
      "    - Visual Studio Integration through Python Tools for Visual Studio\n",
      "    - Featured project on Microsoft Azure\n",
      "- Commercial Python distributions that include IPython:\n",
      "    - Enthought Python Distribution (EPD)\n",
      "    - Continuum Analytics Anaconda\n",
      "- Deploy the single user Notebook on Amazon\n",
      "    - StarCluster\n",
      "    - Notebook Cloud\n",
      "- Cloud hosted Notebooks:\n",
      "    - PiCloud\n",
      "    - Wakari\n",
      "- Other IPython Frontends:\n",
      "    - Vim frontend: https://github.com/ivanov/vim-ipython\n",
      "    - Emacs Notebook frontend: https://github.com/tkf/emacs-ipython-notebook\n",
      "    - vIPer: https://github.com/damianavila/vIPer   "
     ]
    },
    {
     "cell_type": "markdown",
     "metadata": {
      "slideshow": {
       "slide_type": "slide"
      }
     },
     "source": [
      "Sharing and Collaboration\n",
      "=========================\n",
      "\n",
      " - Convert it to some presentation format\n",
      "     - PDF\n",
      "     - Slides\n",
      "     - HTML\n",
      " - Push the .ipynb file to github, and version control it.\n",
      " - Share it across over [nbviewer](http://nbviewer.ipython.org/)\n",
      " - Examples:\n",
      "     - Learn data science\n",
      "         - http://nborwankar.github.io/LearnDataScience/\n",
      "     - Probabilistic-Programming-and-Bayesian-Methods-for-Hackers\n",
      "         - http://camdavidsonpilon.github.io/Probabilistic-Programming-and-Bayesian-Methods-for-Hackers/\n",
      " - JS visualization libraries with Notebook\n",
      "     - Using d3.js with IPython-notebook\n",
      "     "
     ]
    },
    {
     "cell_type": "markdown",
     "metadata": {
      "slideshow": {
       "slide_type": "slide"
      }
     },
     "source": [
      "Moving forward after the talk\n",
      "=============================\n",
      "\n",
      "- Collection of interesting notebooks\n",
      "    - https://github.com/ipython/ipython/wiki/A-gallery-of-interesting-IPython-Notebooks\n",
      "- Mailing list\n",
      "- Chat Room\n",
      "- Books and official docs\n"
     ]
    },
    {
     "cell_type": "markdown",
     "metadata": {
      "slideshow": {
       "slide_type": "slide"
      }
     },
     "source": [
      "Thank You\n",
      "==========\n",
      "\n",
      "# @konarkmodi\n"
     ]
    }
   ],
   "metadata": {}
  }
 ]
}